{
 "cells": [
  {
   "cell_type": "code",
   "execution_count": 1,
   "metadata": {},
   "outputs": [],
   "source": [
    "from CANdb_functions import *\n"
   ]
  },
  {
   "cell_type": "code",
   "execution_count": 12,
   "metadata": {},
   "outputs": [
    {
     "name": "stdout",
     "output_type": "stream",
     "text": [
      "Index(['MSG ID', 'Message Name', 'Length', 'Byte', 'Bit Start', 'Data Name',\n",
      "       'Description', 'Data Type', 'Min', 'Max', 'Scaled Min', 'Scaled Max',\n",
      "       'Map Equation', 'Units', 'For Indexing Purposes', 'Unnamed: 15',\n",
      "       'Unnamed: 16', 'Unnamed: 17', 'Unnamed: 18', 'Unnamed: 19'],\n",
      "      dtype='object')\n"
     ]
    }
   ],
   "source": [
    "messages_and_signals = pd.read_csv(\"CSVs/RAW_MESSAGES.csv\")\n",
    "print(messages_and_signals.columns)\n"
   ]
  },
  {
   "cell_type": "code",
   "execution_count": 13,
   "metadata": {},
   "outputs": [
    {
     "name": "stdout",
     "output_type": "stream",
     "text": [
      "<class 'pandas.core.frame.DataFrame'>\n",
      "Int64Index: 35 entries, 0 to 948\n",
      "Data columns (total 3 columns):\n",
      " #   Column        Non-Null Count  Dtype  \n",
      "---  ------        --------------  -----  \n",
      " 0   MSG ID        35 non-null     object \n",
      " 1   Message Name  35 non-null     object \n",
      " 2   Length        35 non-null     float64\n",
      "dtypes: float64(1), object(2)\n",
      "memory usage: 1.1+ KB\n",
      "None\n"
     ]
    }
   ],
   "source": [
    "messages = messages_and_signals[[\"MSG ID\", \"Message Name\", \"Length\"]].dropna(subset=[\"Message Name\"])\n",
    "print(messages.info())\n",
    "messages = messages\n"
   ]
  },
  {
   "cell_type": "code",
   "execution_count": 17,
   "metadata": {},
   "outputs": [
    {
     "name": "stdout",
     "output_type": "stream",
     "text": [
      "   MSG ID Message Name  Length    Sender\n",
      "0   0x000        Debug    64.0  Debugger\n",
      "2   0x001         Ping     4.0       ECU\n",
      "4   0x002   ECU status    44.0       ECU\n",
      "41  0x003   ECU config     0.0       ECU\n",
      "43  0x004   ACU Status    24.0       ACU\n"
     ]
    }
   ],
   "source": [
    "# funny solution because message sheets format is dog\n",
    "\n",
    "CANdb = cantools.database.load_file(dbc_file)\n",
    "\n",
    "nodes = [node.name for node in CANdb.nodes]\n",
    "\n",
    "# Function to find a sender node by matching first 3 letters\n",
    "def find_sender(message_name):\n",
    "    prefix = message_name[:3].replace(\" \", \"_\").lower()  \n",
    "    matches = [n for n in nodes if prefix in n.lower()]   \n",
    "    return matches[0] if matches else \"ECU\" \n",
    "\n",
    "\n",
    "messages[\"Sender\"] = messages[\"Message Name\"].apply(find_sender)\n",
    "\n",
    "print(messages.head())\n",
    "# messages.to_csv(\"CSVs/MESSAGES.csv\", index=False)\n"
   ]
  },
  {
   "cell_type": "code",
   "execution_count": null,
   "metadata": {},
   "outputs": [],
   "source": []
  }
 ],
 "metadata": {
  "kernelspec": {
   "display_name": "base",
   "language": "python",
   "name": "python3"
  },
  "language_info": {
   "codemirror_mode": {
    "name": "ipython",
    "version": 3
   },
   "file_extension": ".py",
   "mimetype": "text/x-python",
   "name": "python",
   "nbconvert_exporter": "python",
   "pygments_lexer": "ipython3",
   "version": "3.9.12"
  }
 },
 "nbformat": 4,
 "nbformat_minor": 2
}
