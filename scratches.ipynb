{
 "cells": [
  {
   "cell_type": "code",
   "execution_count": 6,
   "metadata": {},
   "outputs": [],
   "source": [
    "from CANdb_functions import *\n"
   ]
  },
  {
   "cell_type": "code",
   "execution_count": 7,
   "metadata": {},
   "outputs": [
    {
     "name": "stdout",
     "output_type": "stream",
     "text": [
      "Index(['MSG ID', 'Message Name', 'Length', 'Byte', 'Bit Start', 'Data Name',\n",
      "       'Description', 'Data Type', 'Min', 'Max', 'Scaled Min', 'Scaled Max',\n",
      "       'Map Equation', 'Units', 'For Indexing Purposes', 'Unnamed: 15',\n",
      "       'Unnamed: 16', 'Unnamed: 17', 'Unnamed: 18', 'Unnamed: 19'],\n",
      "      dtype='object')\n"
     ]
    }
   ],
   "source": [
    "messages_and_signals = pd.read_csv(\"CSVs/RAW_MESSAGES.csv\")\n",
    "print(messages_and_signals.columns)\n"
   ]
  },
  {
   "cell_type": "code",
   "execution_count": 8,
   "metadata": {},
   "outputs": [
    {
     "name": "stdout",
     "output_type": "stream",
     "text": [
      "<class 'pandas.core.frame.DataFrame'>\n",
      "Int64Index: 35 entries, 0 to 948\n",
      "Data columns (total 3 columns):\n",
      " #   Column        Non-Null Count  Dtype  \n",
      "---  ------        --------------  -----  \n",
      " 0   MSG ID        35 non-null     object \n",
      " 1   Message Name  35 non-null     object \n",
      " 2   Length        35 non-null     float64\n",
      "dtypes: float64(1), object(2)\n",
      "memory usage: 1.1+ KB\n",
      "None\n"
     ]
    }
   ],
   "source": [
    "messages = messages_and_signals[[\"MSG ID\", \"Message Name\", \"Length\"]].dropna(subset=[\"Message Name\"])\n",
    "print(messages.info())\n",
    "messages = messages\n"
   ]
  },
  {
   "cell_type": "code",
   "execution_count": 10,
   "metadata": {},
   "outputs": [
    {
     "name": "stderr",
     "output_type": "stream",
     "text": [
      "Overwriting message 'Ping' with 'Ping' in the name to message dictionary.\n"
     ]
    },
    {
     "name": "stdout",
     "output_type": "stream",
     "text": [
      "    MSG ID                                Message Name  Length  \\\n",
      "0    0x000                                       Debug    64.0   \n",
      "2    0x001                                        Ping     4.0   \n",
      "4    0x002                                  ECU status    44.0   \n",
      "41   0x003                                  ECU config     0.0   \n",
      "43   0x004                                  ACU Status    24.0   \n",
      "70   0x005                               ACU Precharge     1.0   \n",
      "72   0x006                ACU Config Charge Parameters     4.0   \n",
      "75   0x007           ACU Config Operational Parameters     2.0   \n",
      "78   0x008                             ACU Cell Data 1    64.0   \n",
      "143  0x009                             ACU Cell Data 2    64.0   \n",
      "208  0x00A                             ACU Cell Data 3    64.0   \n",
      "273  0x00B                             ACU Cell Data 4    64.0   \n",
      "338  0x00C                             ACU Cell Data 5    64.0   \n",
      "403  0x00D                             LV DC-DC Status     8.0   \n",
      "408  0x00E                         DTI Inverter Status    32.0   \n",
      "432  0x00F                         DTI Inverter Config     5.0   \n",
      "437  0x010  DTI Inverter Config Operational Parameters     9.0   \n",
      "443  0x011                          DTI set AC Current     2.0   \n",
      "445  0x012                DTI set Target Brake Current     2.0   \n",
      "447  0x013                         DTI set Target ERPM     4.0   \n",
      "449  0x014                     DTI set Target Position     2.0   \n",
      "451  0x015                 DTI set Relative AC Current     2.0   \n",
      "453  0x016           DTI set Relative AC Brake Current     2.0   \n",
      "455  0x017                          GR Inverter Status    19.0   \n",
      "473  0x018                          GR Inverter Config     5.0   \n",
      "479  0x019                                  Fan Status     5.0   \n",
      "484  0x01A                                  Fan Config     4.0   \n",
      "488  0x01B                                 Dash Status     1.0   \n",
      "495  0x01C                                 Dash Config     7.0   \n",
      "504  0x01D                             Steering Status     2.0   \n",
      "512  0x01E                             Steering Config     0.0   \n",
      "515  0x01F                              SAM Brake Temp     4.0   \n",
      "520  0x020                           SAM Tire Gradient     8.0   \n",
      "529  0x021                                     SAM IMU    20.0   \n",
      "948  0x0EE                                Debug Enable     2.0   \n",
      "\n",
      "               Sender  \n",
      "0            Debugger  \n",
      "2                 ECU  \n",
      "4                 ECU  \n",
      "41                ECU  \n",
      "43                ACU  \n",
      "70                ACU  \n",
      "72                ACU  \n",
      "75                ACU  \n",
      "78                ACU  \n",
      "143               ACU  \n",
      "208               ACU  \n",
      "273               ACU  \n",
      "338               ACU  \n",
      "403          LV_DC_DC  \n",
      "408      DTI_Inverter  \n",
      "432      DTI_Inverter  \n",
      "437      DTI_Inverter  \n",
      "443      DTI_Inverter  \n",
      "445      DTI_Inverter  \n",
      "447      DTI_Inverter  \n",
      "449      DTI_Inverter  \n",
      "451      DTI_Inverter  \n",
      "453      DTI_Inverter  \n",
      "455     GR_Inverter_1  \n",
      "473     GR_Inverter_1  \n",
      "479  Fan_Controller_1  \n",
      "484  Fan_Controller_1  \n",
      "488        Dash_Panel  \n",
      "495        Dash_Panel  \n",
      "504    Steering_Wheel  \n",
      "512    Steering_Wheel  \n",
      "515              SAM1  \n",
      "520              SAM1  \n",
      "529              SAM1  \n",
      "948          Debugger  \n"
     ]
    }
   ],
   "source": [
    "# funny solution because message sheets format is dog\n",
    "\n",
    "CANdb = cantools.database.load_file(dbc_file)\n",
    "\n",
    "nodes = [node.name for node in CANdb.nodes]\n",
    "\n",
    "# Function to find a sender node by matching first 3 letters\n",
    "def find_sender(message_name):\n",
    "    prefix = message_name[:3].replace(\" \", \"_\").lower()  \n",
    "    matches = [n for n in nodes if prefix in n.lower()]   \n",
    "    return matches[0] if matches else \"ECU\" \n",
    "\n",
    "\n",
    "messages[\"Sender\"] = messages[\"Message Name\"].apply(find_sender)\n",
    "\n",
    "print(messages)\n",
    "messages.to_csv(\"CSVs/MESSAGES.csv\", index=False)\n"
   ]
  },
  {
   "cell_type": "code",
   "execution_count": null,
   "metadata": {},
   "outputs": [],
   "source": []
  }
 ],
 "metadata": {
  "kernelspec": {
   "display_name": "base",
   "language": "python",
   "name": "python3"
  },
  "language_info": {
   "codemirror_mode": {
    "name": "ipython",
    "version": 3
   },
   "file_extension": ".py",
   "mimetype": "text/x-python",
   "name": "python",
   "nbconvert_exporter": "python",
   "pygments_lexer": "ipython3",
   "version": "3.9.12"
  }
 },
 "nbformat": 4,
 "nbformat_minor": 2
}
